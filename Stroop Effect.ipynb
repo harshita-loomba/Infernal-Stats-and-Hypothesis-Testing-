{
 "cells": [
  {
   "cell_type": "markdown",
   "id": "77673ea4",
   "metadata": {},
   "source": [
    "# Stroop Effect\n",
    "\n",
    "This report focuses on analyzing data related to the Stroop Effect, a psychological phenomenon. It is divided into four sections: \n",
    "\n",
    "1. Introduction: Sets the investigation problem and provides background information on the Stroop Effect.\n",
    "\n",
    "2. Descriptive Statistics: In this section, the data is statistically summarized and described using various measures.\n",
    "\n",
    "3. Hypotheses Test: A statistical test is conducted on the data to evaluate specific hypotheses, and the results are presented and discussed.\n",
    "\n",
    "4. Conclusion: A comprehensive discussion about the Stroop Effect is provided, drawing conclusions based on the findings and exploring the implications of the analysis.\n",
    "\n",
    "Overall, the report aims to provide a clear understanding of the Stroop Effect through descriptive statistics and a statistical test, leading to meaningful conclusions.\n",
    "\n"
   ]
  },
  {
   "cell_type": "markdown",
   "id": "9a39def0",
   "metadata": {},
   "source": [
    "# Introduction\n",
    "\n",
    "#### Background:\n",
    "The Stroop Effect is a psychological phenomenon that demonstrates the interference in the brain's processing of information. It occurs when there is a mismatch between the meaning of a word and the color in which it is presented. In a typical Stroop task, participants are asked to name the color of ink in which words are printed. When the color and word meaning are congruent (e.g., the word \"red\" printed in red ink), it is relatively easy to name the color. However, when the color and word meaning are incongruent (e.g., the word \"red\" printed in blue ink), it becomes more challenging and takes longer to accurately name the color due to interference from the word's meaning. The Stroop Effect is widely studied in psychology and cognitive science to understand the processes of attention, automaticity, and cognitive control."
   ]
  },
  {
   "cell_type": "markdown",
   "id": "ebf1bb7c",
   "metadata": {},
   "source": [
    "#### Importing Libraries and Warnings"
   ]
  },
  {
   "cell_type": "code",
   "execution_count": 13,
   "id": "a8f6b1ed",
   "metadata": {},
   "outputs": [],
   "source": [
    "# Data analysis packages:\n",
    "import pandas as pd\n",
    "import numpy as np\n",
    "#from datetime import datetime as dt\n",
    "\n",
    "# Visualization packages:\n",
    "import seaborn as sns\n",
    "import matplotlib.pyplot as plt\n",
    "%matplotlib inline\n",
    "\n",
    "from scipy import stats"
   ]
  },
  {
   "cell_type": "markdown",
   "id": "161e9317",
   "metadata": {},
   "source": [
    "#### Importing Data"
   ]
  },
  {
   "cell_type": "code",
   "execution_count": 3,
   "id": "ea2ef1d8",
   "metadata": {},
   "outputs": [],
   "source": [
    "## Loading the dataset\n",
    "data = [[12.079,19.278],[16.791,18.741],[9.564,21.214],[8.630,15.687],[14.669,22.803],[12.238,20.878],[14.692,24.572],[8.987,17.394],[9.401,20.762],[14.480,26.282],[22.328,24.524],[15.298,18.644],[15.073,17.510],[16.929,20.330],[18.200,35.255],[12.130,22.158],[18.495,25.139],[10.639,20.429],[11.344,17.425],[12.369,34.288],[12.944,23.894],[14.233,17.960],[19.710,22.058],[16.004,21.157]]\n",
    "dataset = pd.DataFrame(data, columns=['Congruent','Incongruent'])"
   ]
  },
  {
   "cell_type": "markdown",
   "id": "d2c7adf2",
   "metadata": {},
   "source": [
    "#### Data Understanding:\n",
    "\n",
    "The dataset used in this analysis contains information about the time taken to read the ink color for two types of word lists: congruent and incongruent. Each line in the dataset represents a different person, and there are a total of 24 people included in the dataset.\n",
    "\n",
    "To define the hypotheses for this analysis, it is important to understand the attributes or information available in the dataset. The dataset's first lines are provided below:"
   ]
  },
  {
   "cell_type": "code",
   "execution_count": 4,
   "id": "ff1aca4f",
   "metadata": {},
   "outputs": [
    {
     "name": "stdout",
     "output_type": "stream",
     "text": [
      "The dataset has 24 samples.\n"
     ]
    },
    {
     "data": {
      "text/html": [
       "<div>\n",
       "<style scoped>\n",
       "    .dataframe tbody tr th:only-of-type {\n",
       "        vertical-align: middle;\n",
       "    }\n",
       "\n",
       "    .dataframe tbody tr th {\n",
       "        vertical-align: top;\n",
       "    }\n",
       "\n",
       "    .dataframe thead th {\n",
       "        text-align: right;\n",
       "    }\n",
       "</style>\n",
       "<table border=\"1\" class=\"dataframe\">\n",
       "  <thead>\n",
       "    <tr style=\"text-align: right;\">\n",
       "      <th></th>\n",
       "      <th>Congruent</th>\n",
       "      <th>Incongruent</th>\n",
       "    </tr>\n",
       "  </thead>\n",
       "  <tbody>\n",
       "    <tr>\n",
       "      <th>0</th>\n",
       "      <td>12.079</td>\n",
       "      <td>19.278</td>\n",
       "    </tr>\n",
       "    <tr>\n",
       "      <th>1</th>\n",
       "      <td>16.791</td>\n",
       "      <td>18.741</td>\n",
       "    </tr>\n",
       "    <tr>\n",
       "      <th>2</th>\n",
       "      <td>9.564</td>\n",
       "      <td>21.214</td>\n",
       "    </tr>\n",
       "    <tr>\n",
       "      <th>3</th>\n",
       "      <td>8.630</td>\n",
       "      <td>15.687</td>\n",
       "    </tr>\n",
       "  </tbody>\n",
       "</table>\n",
       "</div>"
      ],
      "text/plain": [
       "   Congruent  Incongruent\n",
       "0     12.079       19.278\n",
       "1     16.791       18.741\n",
       "2      9.564       21.214\n",
       "3      8.630       15.687"
      ]
     },
     "execution_count": 4,
     "metadata": {},
     "output_type": "execute_result"
    }
   ],
   "source": [
    "## Printing the number of samples in the dataset:\n",
    "print('The dataset has {0} samples.'.format(len(dataset)))\n",
    "## Printing out some few lines:\n",
    "dataset.head(4)"
   ]
  },
  {
   "cell_type": "markdown",
   "id": "ef95fe62",
   "metadata": {},
   "source": [
    "These lines represent the initial data entries in the dataset, which contain specific information related to the time taken for individuals to read the ink color in congruent and incongruent word lists.\n",
    "\n",
    "By examining and analyzing this dataset, we will be able to test and draw conclusions regarding the hypotheses formulated for the Stroop Effect."
   ]
  },
  {
   "cell_type": "markdown",
   "id": "faa1d29c",
   "metadata": {},
   "source": [
    "##### In this analysis, we have two main variables: the independent variable and the dependent variable.\n",
    "\n",
    "The independent variable is the factor that is deliberately manipulated or chosen by the experimenter. In this case, the independent variable is the condition of the word sets, specifically whether the words are congruent or incongruent. We can assign a value of 0 to represent the congruent condition and a value of 1 to represent the incongruent condition.\n",
    "\n",
    "The dependent variable, on the other hand, is the variable that is measured or observed and can vary based on the different conditions or treatments applied. In this problem, the dependent variable is the time taken to read and vocalize the color of the ink in which the words are printed. It is the variable that we are interested in understanding and analyzing.\n",
    "\n",
    "##### Therefore, in summary, the independent variable is the condition of the word sets (congruent or incongruent), while the dependent variable is the time taken to read and vocalize the ink color."
   ]
  },
  {
   "cell_type": "markdown",
   "id": "5ebc64fa",
   "metadata": {},
   "source": [
    "##### For the congruent set of words:\n",
    "\n",
    "Population: (μc, σc)\n",
    "- μc represents the mean time for reading a congruent set of words in the entire population.\n",
    "- σc represents the standard deviation of the time taken to read a congruent set of words in the entire population.\n",
    "\n",
    "Sample: (X¯c, Sc)\n",
    "- X¯c represents the sample mean time for reading a congruent set of words, calculated from the participants in the experiment.\n",
    "- Sc represents the sample standard deviation of the time taken to read a congruent set of words, calculated from the participants in the experiment.\n",
    "\n",
    "For the incongruent set of words:\n",
    "\n",
    "Population: (μi, σi)\n",
    "- μi represents the mean time for reading an incongruent set of words in the entire population.\n",
    "- σi represents the standard deviation of the time taken to read an incongruent set of words in the entire population.\n",
    "\n",
    "Sample: (X¯i, Si)\n",
    "- X¯i represents the sample mean time for reading an incongruent set of words, calculated from the participants in the experiment.\n",
    "- Si represents the sample standard deviation of the time taken to read an incongruent set of words, calculated from the participants in the experiment.\n",
    "\n",
    "##### In summary, these notations describe the mean and standard deviation of the time taken to read and vocalize the color of the words for both the congruent and incongruent sets, both in the population and the sample of participants involved in the experiment."
   ]
  },
  {
   "cell_type": "markdown",
   "id": "1d6f0738",
   "metadata": {},
   "source": [
    "##### Hypothesis To be Tested:\n",
    "##### To determine if the time for reading incongruent words differs from reading congruent words, we can perform a paired t-test since the same participants were measured under both conditions. Here's how we can approach it:\n",
    "\n",
    "1. Calculate the difference between the variables: Subtract the time taken to read the congruent set of words (Xc) from the time taken to read the incongruent set of words (Xi) for each participant. This will give us a new variable that represents the difference in reading times for each individual.\n",
    "\n",
    "2. Calculate the mean of the differences: Compute the mean (X¯d) of the differences obtained in the previous step. This will give us an estimate of the average difference in reading times between the congruent and incongruent conditions.\n",
    "\n",
    "3. Calculate the standard deviation of the differences: Calculate the standard deviation (Sd) of the differences. This measures the variability or spread of the differences in reading times.\n",
    "\n",
    "4. Perform a paired t-test: Use the paired t-test to test if the average difference in reading times between the congruent and incongruent conditions is statistically significant. The t-test will consider both the mean difference (X¯d) and the standard deviation of the differences (Sd) to determine the significance.\n",
    "\n",
    "By performing the paired t-test, we can assess whether the observed difference in reading times between congruent and incongruent words is statistically significant, providing insights into whether the Stroop Effect has an impact on the time taken to read the words."
   ]
  },
  {
   "cell_type": "markdown",
   "id": "6c2734c7",
   "metadata": {},
   "source": [
    "##### In addition to the paired t-test, there are other statistical tests that can be conducted to analyze the data and investigate potential differences between the time taken to read congruent and incongruent words. Some alternative tests that can be considered include:\n",
    "\n",
    "1. Wilcoxon Signed-Rank Test: This non-parametric test is used when the data does not meet the assumptions of normality or when the sample size is small. It assesses whether there is a significant difference between paired observations (in this case, the time taken for congruent and incongruent word conditions) without relying on the distributional assumptions.\n",
    "\n",
    "2. Bootstrap Hypothesis Test: The bootstrap method involves resampling the dataset to create multiple simulated samples. By comparing the distribution of differences between resampled congruent and incongruent word times, it is possible to estimate the significance of the observed difference.\n",
    "\n",
    "3. Permutation Test: This non-parametric test involves randomly permuting the labels of congruent and incongruent word times and recalculating the difference between the groups. By repeating this process many times, it is possible to obtain a distribution of differences under the null hypothesis and assess the significance of the observed difference.\n",
    "\n",
    "4. Mixed-Effects Models: These models can be used to account for the dependency of the data, where each participant contributes data for both congruent and incongruent word conditions. Mixed-effects models can provide a more comprehensive analysis by considering individual variation and potential confounding factors.\n",
    "\n",
    "The choice of the appropriate test depends on the specific characteristics of the data and the research question. It is recommended to consult with a statistician or conduct further exploratory analysis to determine the most suitable test for your dataset."
   ]
  },
  {
   "cell_type": "markdown",
   "id": "c4d9c99a",
   "metadata": {},
   "source": [
    "#### T-test"
   ]
  },
  {
   "cell_type": "markdown",
   "id": "f2db8012",
   "metadata": {},
   "source": [
    "In order perform t-test, we first need to calculate the difference between the variables:"
   ]
  },
  {
   "cell_type": "code",
   "execution_count": 5,
   "id": "5b4e1070",
   "metadata": {},
   "outputs": [
    {
     "data": {
      "text/html": [
       "<div>\n",
       "<style scoped>\n",
       "    .dataframe tbody tr th:only-of-type {\n",
       "        vertical-align: middle;\n",
       "    }\n",
       "\n",
       "    .dataframe tbody tr th {\n",
       "        vertical-align: top;\n",
       "    }\n",
       "\n",
       "    .dataframe thead th {\n",
       "        text-align: right;\n",
       "    }\n",
       "</style>\n",
       "<table border=\"1\" class=\"dataframe\">\n",
       "  <thead>\n",
       "    <tr style=\"text-align: right;\">\n",
       "      <th></th>\n",
       "      <th>Congruent</th>\n",
       "      <th>Incongruent</th>\n",
       "      <th>Difference</th>\n",
       "    </tr>\n",
       "  </thead>\n",
       "  <tbody>\n",
       "    <tr>\n",
       "      <th>0</th>\n",
       "      <td>12.079</td>\n",
       "      <td>19.278</td>\n",
       "      <td>-7.199</td>\n",
       "    </tr>\n",
       "    <tr>\n",
       "      <th>1</th>\n",
       "      <td>16.791</td>\n",
       "      <td>18.741</td>\n",
       "      <td>-1.950</td>\n",
       "    </tr>\n",
       "    <tr>\n",
       "      <th>2</th>\n",
       "      <td>9.564</td>\n",
       "      <td>21.214</td>\n",
       "      <td>-11.650</td>\n",
       "    </tr>\n",
       "  </tbody>\n",
       "</table>\n",
       "</div>"
      ],
      "text/plain": [
       "   Congruent  Incongruent  Difference\n",
       "0     12.079       19.278      -7.199\n",
       "1     16.791       18.741      -1.950\n",
       "2      9.564       21.214     -11.650"
      ]
     },
     "execution_count": 5,
     "metadata": {},
     "output_type": "execute_result"
    }
   ],
   "source": [
    "dataset['Difference'] = dataset['Congruent'] - dataset['Incongruent']\n",
    "dataset.head(3)"
   ]
  },
  {
   "cell_type": "markdown",
   "id": "d80537e9",
   "metadata": {},
   "source": [
    "We calculate the difference between congruent and incongruent distributions. Assuming a t-distribution, the mean difference (μd) is μc - μi, and the standard deviation (σd) represents the spread. The sample mean (X¯d) and standard deviation (Sd) provide estimates based on the observed data."
   ]
  },
  {
   "cell_type": "markdown",
   "id": "20e5b718",
   "metadata": {},
   "source": [
    "Next, we will establish the hypotheses and conduct t-tests to evaluate the statistical significance of the observed differences in reading times between congruent and incongruent conditions."
   ]
  },
  {
   "cell_type": "markdown",
   "id": "0fc3304c",
   "metadata": {},
   "source": [
    "Performing a one-tailed t-test is appropriate if we have a specific directional hypothesis about the difference in reading times between congruent and incongruent conditions."
   ]
  },
  {
   "cell_type": "markdown",
   "id": "72790851",
   "metadata": {},
   "source": [
    "# Descriptive statistics:"
   ]
  },
  {
   "cell_type": "markdown",
   "id": "a645a146",
   "metadata": {},
   "source": [
    "Statistics in this context refers to the summary measures of the sample's central tendency, variability, and distribution shape. The Pandas library in Python provides a function to calculate descriptive statistics, including count, mean, standard deviation, min, max, quartiles, and median for numerical data."
   ]
  },
  {
   "cell_type": "code",
   "execution_count": 6,
   "id": "beef4a5e",
   "metadata": {},
   "outputs": [
    {
     "data": {
      "text/html": [
       "<div>\n",
       "<style scoped>\n",
       "    .dataframe tbody tr th:only-of-type {\n",
       "        vertical-align: middle;\n",
       "    }\n",
       "\n",
       "    .dataframe tbody tr th {\n",
       "        vertical-align: top;\n",
       "    }\n",
       "\n",
       "    .dataframe thead th {\n",
       "        text-align: right;\n",
       "    }\n",
       "</style>\n",
       "<table border=\"1\" class=\"dataframe\">\n",
       "  <thead>\n",
       "    <tr style=\"text-align: right;\">\n",
       "      <th></th>\n",
       "      <th>Congruent</th>\n",
       "      <th>Incongruent</th>\n",
       "      <th>Difference</th>\n",
       "    </tr>\n",
       "  </thead>\n",
       "  <tbody>\n",
       "    <tr>\n",
       "      <th>count</th>\n",
       "      <td>24.000000</td>\n",
       "      <td>24.000000</td>\n",
       "      <td>24.000000</td>\n",
       "    </tr>\n",
       "    <tr>\n",
       "      <th>mean</th>\n",
       "      <td>14.051125</td>\n",
       "      <td>22.015917</td>\n",
       "      <td>-7.964792</td>\n",
       "    </tr>\n",
       "    <tr>\n",
       "      <th>std</th>\n",
       "      <td>3.559358</td>\n",
       "      <td>4.797057</td>\n",
       "      <td>4.864827</td>\n",
       "    </tr>\n",
       "    <tr>\n",
       "      <th>min</th>\n",
       "      <td>8.630000</td>\n",
       "      <td>15.687000</td>\n",
       "      <td>-21.919000</td>\n",
       "    </tr>\n",
       "    <tr>\n",
       "      <th>25%</th>\n",
       "      <td>11.895250</td>\n",
       "      <td>18.716750</td>\n",
       "      <td>-10.258500</td>\n",
       "    </tr>\n",
       "    <tr>\n",
       "      <th>50%</th>\n",
       "      <td>14.356500</td>\n",
       "      <td>21.017500</td>\n",
       "      <td>-7.666500</td>\n",
       "    </tr>\n",
       "    <tr>\n",
       "      <th>75%</th>\n",
       "      <td>16.200750</td>\n",
       "      <td>24.051500</td>\n",
       "      <td>-3.645500</td>\n",
       "    </tr>\n",
       "    <tr>\n",
       "      <th>max</th>\n",
       "      <td>22.328000</td>\n",
       "      <td>35.255000</td>\n",
       "      <td>-1.950000</td>\n",
       "    </tr>\n",
       "  </tbody>\n",
       "</table>\n",
       "</div>"
      ],
      "text/plain": [
       "       Congruent  Incongruent  Difference\n",
       "count  24.000000    24.000000   24.000000\n",
       "mean   14.051125    22.015917   -7.964792\n",
       "std     3.559358     4.797057    4.864827\n",
       "min     8.630000    15.687000  -21.919000\n",
       "25%    11.895250    18.716750  -10.258500\n",
       "50%    14.356500    21.017500   -7.666500\n",
       "75%    16.200750    24.051500   -3.645500\n",
       "max    22.328000    35.255000   -1.950000"
      ]
     },
     "execution_count": 6,
     "metadata": {},
     "output_type": "execute_result"
    }
   ],
   "source": [
    "## Obtaining the dataset descriptive statistics:\n",
    "dataset.describe()"
   ]
  },
  {
   "cell_type": "markdown",
   "id": "1592db2b",
   "metadata": {},
   "source": [
    "The median is close to the mean, indicating the central tendency, and the standard deviation shows the spread of the distributions."
   ]
  },
  {
   "cell_type": "markdown",
   "id": "b3df7f9c",
   "metadata": {},
   "source": [
    "Descriptive statistics and the plot confirm similarity between sample distributions, despite outliers and skewness in the difference distribution."
   ]
  },
  {
   "cell_type": "code",
   "execution_count": 7,
   "id": "89f4b157",
   "metadata": {},
   "outputs": [
    {
     "name": "stderr",
     "output_type": "stream",
     "text": [
      "C:\\Users\\hp\\anaconda3\\lib\\site-packages\\seaborn\\distributions.py:2619: FutureWarning: `distplot` is a deprecated function and will be removed in a future version. Please adapt your code to use either `displot` (a figure-level function with similar flexibility) or `histplot` (an axes-level function for histograms).\n",
      "  warnings.warn(msg, FutureWarning)\n",
      "C:\\Users\\hp\\anaconda3\\lib\\site-packages\\seaborn\\distributions.py:2619: FutureWarning: `distplot` is a deprecated function and will be removed in a future version. Please adapt your code to use either `displot` (a figure-level function with similar flexibility) or `histplot` (an axes-level function for histograms).\n",
      "  warnings.warn(msg, FutureWarning)\n",
      "C:\\Users\\hp\\anaconda3\\lib\\site-packages\\seaborn\\distributions.py:2619: FutureWarning: `distplot` is a deprecated function and will be removed in a future version. Please adapt your code to use either `displot` (a figure-level function with similar flexibility) or `histplot` (an axes-level function for histograms).\n",
      "  warnings.warn(msg, FutureWarning)\n"
     ]
    },
    {
     "data": {
      "image/png": "[encoded data removed]",
      "text/plain": [
       "<Figure size 1200x600 with 1 Axes>"
      ]
     },
     "metadata": {},
     "output_type": "display_data"
    }
   ],
   "source": [
    "fig1, ax = plt.subplots(figsize=[12,6])  #Defines the graph window size\n",
    "fig1.subplots_adjust(top=0.92)\n",
    "plt.suptitle('Sample distributions for Stroop Effect experiment', fontsize=14, fontweight='bold')\n",
    "\n",
    "sns.distplot(dataset['Congruent'], label='Congruent', ax=ax)\n",
    "sns.distplot(dataset['Incongruent'], label='Incongruent', ax=ax)\n",
    "sns.distplot(dataset['Difference'], label='Difference', ax=ax)\n",
    "ax.legend(ncol=2, loc=\"upper right\", frameon=True)\n",
    "\n",
    "ax.set_xlabel('Time to read and say out the printed color of the word set', fontsize=12)\n",
    "plt.show()\n"
   ]
  },
  {
   "cell_type": "markdown",
   "id": "d8c1a995",
   "metadata": {},
   "source": [
    "The boxplot below displays the distributions, indicating the range and highlighting potential outliers in the data."
   ]
  },
  {
   "cell_type": "code",
   "execution_count": 8,
   "id": "4c368017",
   "metadata": {},
   "outputs": [
    {
     "data": {
      "image/png": "[encoded data removed]",
      "text/plain": [
       "<Figure size 1200x600 with 1 Axes>"
      ]
     },
     "metadata": {},
     "output_type": "display_data"
    }
   ],
   "source": [
    "fig2, ax2 = plt.subplots(figsize=[12,6])  #Defines the graph window size\n",
    "fig2.subplots_adjust(top=0.92)\n",
    "plt.suptitle('Boxplot of the sample distributions for Stroop Effect experiment', fontsize=14, fontweight='bold')\n",
    "sns.boxplot(data=dataset, orient='v', ax=ax2)\n",
    "plt.show()"
   ]
  },
  {
   "cell_type": "markdown",
   "id": "29b67097",
   "metadata": {},
   "source": [
    "# Hypothesis Testing"
   ]
  },
  {
   "cell_type": "markdown",
   "id": "e04450fb",
   "metadata": {},
   "source": [
    "Hypotheses to test:\n",
    "\n",
    "H0:μd=0\n",
    "\n",
    "Ha:μd<0\n"
   ]
  },
  {
   "cell_type": "markdown",
   "id": "b4734edc",
   "metadata": {},
   "source": [
    "One-tailed t-test with  α\n",
    "  level of  0.05\n",
    "  and dependent sample."
   ]
  },
  {
   "cell_type": "markdown",
   "id": "6681e582",
   "metadata": {},
   "source": [
    "Calculating degrees of freedom\n",
    "Since we are considering dependent sample, the degrees of freedom (df) are found by the following relation:\n",
    "###### df=n−1, where  n is the number of samples."
   ]
  },
  {
   "cell_type": "code",
   "execution_count": 9,
   "id": "69ed076d",
   "metadata": {},
   "outputs": [
    {
     "name": "stdout",
     "output_type": "stream",
     "text": [
      "Degrees of freedom: 23\n"
     ]
    }
   ],
   "source": [
    "n = len(dataset)\n",
    "df = n-1\n",
    "print('Degrees of freedom: {}'.format(df))"
   ]
  },
  {
   "cell_type": "code",
   "execution_count": 10,
   "id": "85aa5fd9",
   "metadata": {},
   "outputs": [
    {
     "name": "stdout",
     "output_type": "stream",
     "text": [
      "Sample mean = -7.964791666666664\n",
      "Sample std = 4.864826910359054\n"
     ]
    }
   ],
   "source": [
    "## Difference mean\n",
    "Xd = dataset['Difference'].mean()\n",
    "print('Sample mean = {}'.format(Xd))\n",
    "## Difference standard deviation\n",
    "Sd = dataset['Difference'].std()\n",
    "print('Sample std = {}'.format(Sd))"
   ]
  },
  {
   "cell_type": "code",
   "execution_count": 11,
   "id": "6b5f8efa",
   "metadata": {},
   "outputs": [
    {
     "name": "stdout",
     "output_type": "stream",
     "text": [
      "SEM = 0.9930286347783402\n"
     ]
    }
   ],
   "source": [
    "SEM = Sd / np.sqrt(n)\n",
    "print('SEM = {}'.format(SEM))"
   ]
  },
  {
   "cell_type": "code",
   "execution_count": 12,
   "id": "3b511ac5",
   "metadata": {},
   "outputs": [
    {
     "name": "stdout",
     "output_type": "stream",
     "text": [
      "t-test = -8.020706944109957\n"
     ]
    }
   ],
   "source": [
    "t = Xd / SEM\n",
    "print('t-test = {}'.format(t))"
   ]
  },
  {
   "cell_type": "code",
   "execution_count": 14,
   "id": "3cd9c14e",
   "metadata": {},
   "outputs": [
    {
     "name": "stdout",
     "output_type": "stream",
     "text": [
      "p-value = 0.000000021\n"
     ]
    }
   ],
   "source": [
    "p = stats.t.cdf(t, df=df)\n",
    "print('p-value = {0:.9f}'.format(p))"
   ]
  },
  {
   "cell_type": "code",
   "execution_count": 15,
   "id": "f8dcb688",
   "metadata": {},
   "outputs": [
    {
     "data": {
      "text/plain": [
       "Ttest_relResult(statistic=-8.020706944109959, pvalue=4.1030005857111556e-08)"
      ]
     },
     "execution_count": 15,
     "metadata": {},
     "output_type": "execute_result"
    }
   ],
   "source": [
    "stats.ttest_rel(dataset['Congruent'],dataset['Incongruent'])"
   ]
  },
  {
   "cell_type": "markdown",
   "id": "de464204",
   "metadata": {},
   "source": [
    "As the t-test value is significantly lower than the critical value, we reject the null hypothesis. This confirms a significant difference between reading times for congruent and incongruent words, supporting the presence of the Stroop Effect."
   ]
  },
  {
   "cell_type": "markdown",
   "id": "5618d741",
   "metadata": {},
   "source": [
    "Hence we Reject then Null hypothesis.\n"
   ]
  },
  {
   "cell_type": "code",
   "execution_count": 16,
   "id": "a0853408",
   "metadata": {},
   "outputs": [
    {
     "name": "stdout",
     "output_type": "stream",
     "text": [
      "Confidence interval: (-9.67, -6.26)\n"
     ]
    }
   ],
   "source": [
    "t_critical = 1.714\n",
    "ME = t_critical*SEM\n",
    "CI = (Xd-ME, Xd+ME)\n",
    "print('Confidence interval: ({0:.2f}, {1:.2f})'.format(CI[0], CI[1]))"
   ]
  },
  {
   "cell_type": "markdown",
   "id": "c8c387b8",
   "metadata": {},
   "source": [
    "The calculated confidence interval indicates that, on average, individuals read the congruent set of words approximately 6 to 10 seconds faster than the incongruent set."
   ]
  },
  {
   "cell_type": "markdown",
   "id": "cc058179",
   "metadata": {},
   "source": [
    "# Conclusion"
   ]
  },
  {
   "cell_type": "markdown",
   "id": "41e19a8c",
   "metadata": {},
   "source": [
    "###### The Stroop Effect challenges the concept of selective attention, as observed in experimental psychology. Through hypothesis testing and statistical analysis, we provided evidence supporting this phenomenon."
   ]
  },
  {
   "cell_type": "code",
   "execution_count": null,
   "id": "c5dfa7d9",
   "metadata": {},
   "outputs": [],
   "source": []
  }
 ],
 "metadata": {
  "kernelspec": {
   "display_name": "Python 3 (ipykernel)",
   "language": "python",
   "name": "python3"
  },
  "language_info": {
   "codemirror_mode": {
    "name": "ipython",
    "version": 3
   },
   "file_extension": ".py",
   "mimetype": "text/x-python",
   "name": "python",
   "nbconvert_exporter": "python",
   "pygments_lexer": "ipython3",
   "version": "3.9.13"
  }
 },
 "nbformat": 4,
 "nbformat_minor": 5
}
